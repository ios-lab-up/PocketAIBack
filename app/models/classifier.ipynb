{
 "cells": [
  {
   "cell_type": "code",
   "execution_count": 1,
   "metadata": {},
   "outputs": [
    {
     "name": "stderr",
     "output_type": "stream",
     "text": [
      "/var/folders/qt/4m623cks1dggfkj22ryqr2zc0000gq/T/ipykernel_56960/370812658.py:1: DeprecationWarning: \n",
      "Pyarrow will become a required dependency of pandas in the next major release of pandas (pandas 3.0),\n",
      "(to allow more performant data types, such as the Arrow string type, and better interoperability with other libraries)\n",
      "but was not found to be installed on your system.\n",
      "If this would cause problems for you,\n",
      "please provide us feedback at https://github.com/pandas-dev/pandas/issues/54466\n",
      "        \n",
      "  import pandas as pd\n"
     ]
    }
   ],
   "source": [
    "import pandas as pd\n",
    "import re\n",
    "from sklearn.model_selection import train_test_split\n",
    "from sklearn.preprocessing import LabelEncoder\n",
    "import joblib\n",
    "from sklearn.feature_extraction.text import TfidfVectorizer\n",
    "from sklearn.linear_model import LogisticRegression\n",
    "from sklearn.metrics import classification_report\n"
   ]
  },
  {
   "cell_type": "code",
   "execution_count": 4,
   "metadata": {},
   "outputs": [
    {
     "name": "stdout",
     "output_type": "stream",
     "text": [
      "                                               query  intent\n",
      "0  ¡Claro! Aquí tienes algunas preguntas relacion...  grades\n",
      "1     ¿Qué puntaje necesito para aprobar la materia?  grades\n",
      "2  ¿Cómo puedo interpretar mis resultados en el e...  grades\n",
      "3  ¿Qué estrategias puedo utilizar para estudiar ...  grades\n",
      "4  ¿Qué recursos adicionales puedo utilizar para ...  grades\n",
      "intent\n",
      "grades        1000\n",
      "attendance    1000\n",
      "schedule      1000\n",
      "general       1000\n",
      "links          955\n",
      "Name: count, dtype: int64\n",
      "<class 'pandas.core.frame.DataFrame'>\n",
      "RangeIndex: 4955 entries, 0 to 4954\n",
      "Data columns (total 2 columns):\n",
      " #   Column  Non-Null Count  Dtype \n",
      "---  ------  --------------  ----- \n",
      " 0   query   4955 non-null   object\n",
      " 1   intent  4955 non-null   object\n",
      "dtypes: object(2)\n",
      "memory usage: 77.6+ KB\n",
      "None\n"
     ]
    }
   ],
   "source": [
    "# Load the dataset\n",
    "df = pd.read_csv('../../scripts/intent_dataset.csv')\n",
    "\n",
    "# Inspect the data\n",
    "print(df.head())\n",
    "print(df['intent'].value_counts())\n",
    "print(df.info())\n"
   ]
  },
  {
   "cell_type": "code",
   "execution_count": 5,
   "metadata": {},
   "outputs": [],
   "source": [
    "# Function to clean text\n",
    "def clean_text(text):\n",
    "    text = text.lower()\n",
    "    text = re.sub(r'[^a-záéíóúñü¿?¡!0-9\\s]', '', text)\n",
    "    return text\n",
    "\n",
    "# Apply cleaning\n",
    "df['query'] = df['query'].apply(clean_text)\n",
    "\n",
    "# Encode labels\n",
    "label_encoder = LabelEncoder()\n",
    "df['intent_encoded'] = label_encoder.fit_transform(df['intent'])\n",
    "\n",
    "# Split the dataset\n",
    "X_train, X_test, y_train, y_test = train_test_split(\n",
    "    df['query'], df['intent_encoded'], test_size=0.2, random_state=42, stratify=df['intent_encoded']\n",
    ")\n"
   ]
  },
  {
   "cell_type": "code",
   "execution_count": 6,
   "metadata": {},
   "outputs": [],
   "source": [
    "# TF-IDF Vectorization\n",
    "vectorizer = TfidfVectorizer(max_features=5000)\n",
    "X_train_tfidf = vectorizer.fit_transform(X_train)\n",
    "X_test_tfidf = vectorizer.transform(X_test)\n"
   ]
  },
  {
   "cell_type": "code",
   "execution_count": 7,
   "metadata": {},
   "outputs": [
    {
     "name": "stdout",
     "output_type": "stream",
     "text": [
      "              precision    recall  f1-score   support\n",
      "\n",
      "  attendance       0.99      0.99      0.99       200\n",
      "     general       0.95      0.96      0.96       200\n",
      "      grades       0.97      0.99      0.98       200\n",
      "       links       0.98      0.97      0.98       191\n",
      "    schedule       1.00      0.97      0.99       200\n",
      "\n",
      "    accuracy                           0.98       991\n",
      "   macro avg       0.98      0.98      0.98       991\n",
      "weighted avg       0.98      0.98      0.98       991\n",
      "\n"
     ]
    }
   ],
   "source": [
    "# Train the classifier\n",
    "clf = LogisticRegression(max_iter=500)\n",
    "clf.fit(X_train_tfidf, y_train)\n",
    "\n",
    "# Evaluate on the test set\n",
    "y_pred = clf.predict(X_test_tfidf)\n",
    "print(classification_report(y_test, y_pred, target_names=label_encoder.classes_))\n"
   ]
  },
  {
   "cell_type": "code",
   "execution_count": 14,
   "metadata": {},
   "outputs": [
    {
     "data": {
      "text/plain": [
       "['label_encoder.pkl']"
      ]
     },
     "execution_count": 14,
     "metadata": {},
     "output_type": "execute_result"
    }
   ],
   "source": [
    "# Save artifacts\n",
    "joblib.dump(vectorizer, 'vectorizer.pkl')\n",
    "joblib.dump(clf, 'intent_classifier.pkl')\n",
    "joblib.dump(label_encoder, 'label_encoder.pkl')\n"
   ]
  },
  {
   "cell_type": "code",
   "execution_count": 15,
   "metadata": {},
   "outputs": [
    {
     "name": "stdout",
     "output_type": "stream",
     "text": [
      "Predicted intent: schedule\n"
     ]
    }
   ],
   "source": [
    "# Load artifacts\n",
    "vectorizer = joblib.load('vectorizer.pkl')\n",
    "clf = joblib.load('intent_classifier.pkl')\n",
    "label_encoder = joblib.load('label_encoder.pkl')\n",
    "\n",
    "# Predict on a new query\n",
    "new_query = \"¿A qué hora es mi clase?\"\n",
    "clean_query = clean_text(new_query)\n",
    "query_vectorized = vectorizer.transform([clean_query])\n",
    "predicted_intent = label_encoder.inverse_transform(clf.predict(query_vectorized))\n",
    "print(f\"Predicted intent: {predicted_intent[0]}\")\n"
   ]
  },
  {
   "cell_type": "code",
   "execution_count": 12,
   "metadata": {},
   "outputs": [
    {
     "name": "stdout",
     "output_type": "stream",
     "text": [
      "Best parameters: {'C': 10, 'solver': 'liblinear'}\n",
      "              precision    recall  f1-score   support\n",
      "\n",
      "  attendance       0.99      0.99      0.99       200\n",
      "     general       0.96      0.96      0.96       200\n",
      "      grades       0.96      0.99      0.98       200\n",
      "       links       0.99      0.98      0.99       191\n",
      "    schedule       0.99      0.97      0.98       200\n",
      "\n",
      "    accuracy                           0.98       991\n",
      "   macro avg       0.98      0.98      0.98       991\n",
      "weighted avg       0.98      0.98      0.98       991\n",
      "\n"
     ]
    }
   ],
   "source": [
    "from sklearn.model_selection import GridSearchCV\n",
    "\n",
    "# Grid search for hyperparameter tuning\n",
    "param_grid = {'C': [0.1, 1, 10], 'solver': ['lbfgs', 'liblinear']}\n",
    "grid_search = GridSearchCV(LogisticRegression(max_iter=500), param_grid, cv=5, scoring='accuracy')\n",
    "grid_search.fit(X_train_tfidf, y_train)\n",
    "\n",
    "print(\"Best parameters:\", grid_search.best_params_)\n",
    "best_model = grid_search.best_estimator_\n",
    "\n",
    "# Evaluate best model\n",
    "y_pred = best_model.predict(X_test_tfidf)\n",
    "print(classification_report(y_test, y_pred, target_names=label_encoder.classes_))\n"
   ]
  },
  {
   "cell_type": "code",
   "execution_count": 13,
   "metadata": {},
   "outputs": [
    {
     "data": {
      "image/png": "[encoded data removed]",
      "text/plain": [
       "<Figure size 640x480 with 2 Axes>"
      ]
     },
     "metadata": {},
     "output_type": "display_data"
    }
   ],
   "source": [
    "import matplotlib.pyplot as plt\n",
    "from sklearn.metrics import ConfusionMatrixDisplay\n",
    "\n",
    "# Display confusion matrix\n",
    "ConfusionMatrixDisplay.from_estimator(best_model, X_test_tfidf, y_test, display_labels=label_encoder.classes_)\n",
    "plt.show()\n"
   ]
  }
 ],
 "metadata": {
  "kernelspec": {
   "display_name": "Python 3",
   "language": "python",
   "name": "python3"
  },
  "language_info": {
   "codemirror_mode": {
    "name": "ipython",
    "version": 3
   },
   "file_extension": ".py",
   "mimetype": "text/x-python",
   "name": "python",
   "nbconvert_exporter": "python",
   "pygments_lexer": "ipython3",
   "version": "3.11.7"
  }
 },
 "nbformat": 4,
 "nbformat_minor": 2
}
